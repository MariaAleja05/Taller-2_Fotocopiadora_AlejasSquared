{
  "nbformat": 4,
  "nbformat_minor": 0,
  "metadata": {
    "colab": {
      "provenance": []
    },
    "kernelspec": {
      "name": "python3",
      "display_name": "Python 3"
    },
    "language_info": {
      "name": "python"
    }
  },
  "cells": [
    {
      "cell_type": "markdown",
      "source": [
        "##**Punto #2**"
      ],
      "metadata": {
        "id": "Sa2X62qRiPpb"
      }
    },
    {
      "cell_type": "markdown",
      "source": [
        "**Enunciado:** Desarrollar un programa que ingrese un número flotante n y separe su parte entera de la parte decimal, y luego entregue los dígitos tanto de la parte entera como de la decimal."
      ],
      "metadata": {
        "id": "NHRHsqbaiS1V"
      }
    },
    {
      "cell_type": "code",
      "execution_count": 1,
      "metadata": {
        "id": "copO5rW6cn6I",
        "colab": {
          "base_uri": "https://localhost:8080/"
        },
        "outputId": "351d842b-57a5-4f60-a84e-54a3ea53353b"
      },
      "outputs": [
        {
          "output_type": "stream",
          "name": "stdout",
          "text": [
            "Ingrese el número:45.6\n",
            "La parte entera es: ['4', '5']\n",
            "La parte decimal es: ['6']\n"
          ]
        }
      ],
      "source": [
        "def Digitos(n):                                                 # La función\n",
        "  digitos=[]                                                    # Lista para introducir los dígitos\n",
        "  entero=[]                                                     # Lista para ingresar la parte entera\n",
        "  decimal=[]                                                    # Lista para ingresar la parte decimal\n",
        "  str_n=str(n)                                                  # Convertir el número a str\n",
        "  for i in str_n:                                               # Un for que va con cada elemento del str\n",
        "    decimal.append(i)                                           # Se añaden todos los elementos\n",
        "  decimal_aux=decimal[:]                                        # Se usará más adelante\n",
        "  for i in decimal_aux:                                         # Con cada elemento de la lista se busca donde hay un punto y así se divide la parte entera de la decimal\n",
        "    if i==\".\":\n",
        "      decimal.remove(i)\n",
        "      break\n",
        "    else:\n",
        "      decimal.remove(i)                                         # Lo que se elemina del decima se añade a la entera\n",
        "      entero.append(i)\n",
        "  print(\"La parte entera es: \" + str(entero))                   # Se muestra el resultado\n",
        "  print(\"La parte decimal es: \" + str(decimal))\n",
        "\n",
        "if __name__ == \"__main__\":\n",
        "  n = float(input(\"Ingrese el número:\"))                        # El usuario ingresa el número flotante\n",
        "  Digitos(n)"
      ]
    },
    {
      "cell_type": "markdown",
      "source": [
        "##**Punto #4**"
      ],
      "metadata": {
        "id": "Okc5tO2riTS_"
      }
    },
    {
      "cell_type": "markdown",
      "source": [
        "**Enunciado:** Diseñar una función que permita calcular una aproximación de la función coseno alrededor de 0 para cualquier valor x (real), utilizando los primeros n términos de la serie de Taylor. nota: use math para traer la función coseno y mostrar la diferencia entre el valor real y la aproximación. Calcule con cuántos términos de la serie (i.e: cuáles valores de n), se tienen errores del 10%, 1%, 0.1% y 0.001%."
      ],
      "metadata": {
        "id": "XSNWFrlOiUtP"
      }
    },
    {
      "cell_type": "code",
      "source": [
        "import math                                           # Se importa la biblioteca math\n",
        "from math import cos, factorial                       # Se importan las funciones cos y factorial\n",
        "\n",
        "def AproxFuncionCoseno(x: float, n:int) -> float:     # Se crea una función para hallar la operación\n",
        "  suma: float = 0                                     # La suma inicia en cero\n",
        "  for i in range(0, n+1):                             # Para repetir la operación con cada elemento\n",
        "    y = ((-1)**i)*((x**(2*i))/factorial(2*i))         # Operación de la formula\n",
        "    suma += y\n",
        "  return suma                                         # Resultado final\n",
        "\n",
        "if __name__ == \"__main__\":\n",
        "  x = float(input(\"Ingrese un número real: \"))        # Ingresar el número x\n",
        "  n: int = 1                                          # La sumatoria inicia desde 1\n",
        "  aprox: float = AproxFuncionCoseno(x, n)             # Se llama la función\n",
        "  valorReal: float = cos(x)                           # Se calcula el valor real\n",
        "  diferencia: float = valorReal-aprox                 # Se halla la diferencia\n",
        "\n",
        "  print(\"------------------------------------------------------------------------------\")\n",
        "\n",
        "  while ((abs(valorReal - aprox)/valorReal * 100)>0.1):     #Para el 10%\n",
        "    aprox: float = AproxFuncionCoseno(x, n)\n",
        "    n += 1\n",
        "  print(\"El valor de n para tener un error menor a 0.1: \" + str(n))\n",
        "\n",
        "  while ((abs(valorReal - aprox)/valorReal * 100)>0.01):    #Para el 1%\n",
        "    aprox: float = AproxFuncionCoseno(x, n)\n",
        "    n += 1\n",
        "  print(\"El valor de n para tener un error menor a 0.01: \" + str(n))\n",
        "\n",
        "  while ((abs(valorReal - aprox)/valorReal * 100)>0.001):   # Para el 0.1%\n",
        "    aprox: float = AproxFuncionCoseno(x, n)\n",
        "    n += 1\n",
        "  print(\"El valor de n para tener un error menor a 0.001: \" + str(n))\n",
        "\n",
        "  while ((abs(valorReal - aprox)/valorReal * 100)>0.00001): #Para el 0.001%\n",
        "    aprox: float = AproxFuncionCoseno(x, n)\n",
        "    n += 1\n",
        "  print(\"El valor de n para tener un error menor a 0.00001: \" + str(n))\n",
        "\n",
        "  print(\"------------------------------------------------------------------------------\")\n",
        "\n",
        "  print(\"La aproximación es: \" + str(aprox))                # Resultado de la aprox\n",
        "  print(\"El valor real es: \" + str(valorReal))              # Resultado del valor real\n",
        "  print(\"La diferencia entre estos dos valores es de: \" + str(diferencia))  #Resultado diferencia"
      ],
      "metadata": {
        "id": "1L0dfNkViVDk",
        "colab": {
          "base_uri": "https://localhost:8080/"
        },
        "outputId": "73de54d0-5e0b-4a0c-b142-ecee4b002d78"
      },
      "execution_count": null,
      "outputs": [
        {
          "output_type": "stream",
          "name": "stdout",
          "text": [
            "Ingrese un número real: 1\n",
            "------------------------------------------------------------------------------\n",
            "El valor de n para tener un error menor a 0.1: 4\n",
            "El valor de n para tener un error menor a 0.01: 4\n",
            "El valor de n para tener un error menor a 0.001: 5\n",
            "El valor de n para tener un error menor a 0.00001: 6\n",
            "------------------------------------------------------------------------------\n",
            "La aproximación es: 0.540302303791887\n",
            "El valor real es: 0.5403023058681398\n",
            "La diferencia entre estos dos valores es de: 0.040302305868139765\n"
          ]
        }
      ]
    },
    {
      "cell_type": "markdown",
      "source": [
        "##**Punto #6**"
      ],
      "metadata": {
        "id": "OjEFrZQeiVf-"
      }
    },
    {
      "cell_type": "markdown",
      "source": [
        "**Enunciado:** Desarrollar un programa que determine si en una lista existen o no elementos repetidos. Pista: Maneje valores booleanos y utilice el operador in."
      ],
      "metadata": {
        "id": "zuNYWBqtiYKE"
      }
    },
    {
      "cell_type": "code",
      "source": [
        "def ElementosRepetidos(lista):                # Función para encontrar elementos repetidos\n",
        "  lista2=[]                                   # Lista para colocar los valores que ya se miraron\n",
        "  for j in lista:                             # Evalua cada elemento de la lista original\n",
        "    if j in lista2:                           # Evalua si el elemento esta en la lista 2\n",
        "      return True                             # Significa que está repetido\n",
        "    lista2.append(j)                          # Añade el elemento a la lista 2 para ver si se repite\n",
        "  return False                                # No hay ningún elemento repetido\n",
        "\n",
        "if __name__ == \"__main__\":\n",
        "  lista=[]                                    # Lista vacía que crea el usuario\n",
        "  n = int(input(\"Ingrese la cantidad de elementos de la lista: \"))  # La cantidad de elementos\n",
        "\n",
        "  for i in range(n):                          # Repite según la cantidad de elementos que tendrá la lista\n",
        "    a = float(input(\"Ingrese un elemento de la lista: \"))\n",
        "    lista.append(a)                           # Añade el elemento a la lista\n",
        "  rta=ElementosRepetidos(lista)               # Llama la función\n",
        "  print(\"--------------------------------------------------\")\n",
        "  print(lista)\n",
        "  if rta:                                     # Si el resultado de la función es True\n",
        "    print(\"La lista SI tiene elementos repetidos\")\n",
        "  else:                                       # Si el resultado de la función es False\n",
        "    print(\"La lista NO tiene elementos repetidos\")"
      ],
      "metadata": {
        "id": "GxOtGSOTiYd-",
        "colab": {
          "base_uri": "https://localhost:8080/"
        },
        "outputId": "56e42cfe-4d9d-4964-d05e-549c8427a593"
      },
      "execution_count": null,
      "outputs": [
        {
          "output_type": "stream",
          "name": "stdout",
          "text": [
            "Ingrese la cantidad de elementos de la lista: 3\n",
            "Ingrese un elemento de la lista: 2\n",
            "Ingrese un elemento de la lista: 3\n",
            "Ingrese un elemento de la lista: 2\n",
            "--------------------------------------------------\n",
            "[2.0, 3.0, 2.0]\n",
            "La lista SI tiene elementos repetidos\n"
          ]
        }
      ]
    },
    {
      "cell_type": "markdown",
      "source": [
        "##**Punto #8**"
      ],
      "metadata": {
        "id": "26YUtPPPiY1D"
      }
    },
    {
      "cell_type": "markdown",
      "source": [
        "**Enunciado:** Desarrollar un programa que dadas dos listas determine que elementos tiene la primer lista que no tenga la segunda lista"
      ],
      "metadata": {
        "id": "804r4UMliaac"
      }
    },
    {
      "cell_type": "code",
      "source": [
        "def ElementosRepetidos(lista, lista2):\n",
        "  for i in range(n):      # Se repite por cada elemento de la lista\n",
        "    for j in lista:       # Toma cada elemento de la primera lista\n",
        "      if j in lista2:     # Se mira si ese elemento está en la lista 2\n",
        "        lista.remove(j)   # Si está se elimina de la primera lista\n",
        "  return lista\n",
        "\n",
        "if __name__ == \"__main__\":\n",
        "  lista=[]\n",
        "  lista2=[]\n",
        "  n = int(input(\"Ingrese la cantidad de elementos de la primera lista: \"))    # Ingresar # de elementos\n",
        "  for i in range(n):                                                          # Ingresar elementos\n",
        "    a = float(input(\"Ingrese un elemento de la primera lista: \"))\n",
        "    lista.append(a)\n",
        "  m = int(input(\"Ingrese la cantidad de elementos de la segunda lista: \"))    # Ingresar # de elementos\n",
        "  for i in range(m):                                                          # Ingresar elementos\n",
        "    b = float(input(\"Ingrese un elemento de la segunda lista: \"))\n",
        "    lista2.append(b)\n",
        "  rta=ElementosRepetidos(lista, lista2)                                       # Se llama la función\n",
        "  print(\"--------------------------------------------------\")\n",
        "  print(\"La primera lista tiene los siguientes elementos que no están en la segunda lista: \" + str(rta))\n"
      ],
      "metadata": {
        "id": "5lHkvC3oiatn",
        "colab": {
          "base_uri": "https://localhost:8080/"
        },
        "outputId": "096df53f-a285-447d-80ef-e5f84cf6829b"
      },
      "execution_count": null,
      "outputs": [
        {
          "output_type": "stream",
          "name": "stdout",
          "text": [
            "Ingrese la cantidad de elementos de la primera lista: 4\n",
            "Ingrese un elemento de la primera lista: 1\n",
            "Ingrese un elemento de la primera lista: 2\n",
            "Ingrese un elemento de la primera lista: 3\n",
            "Ingrese un elemento de la primera lista: 4\n",
            "Ingrese la cantidad de elementos de la segunda lista: 5\n",
            "Ingrese un elemento de la segunda lista: 3\n",
            "Ingrese un elemento de la segunda lista: 4\n",
            "Ingrese un elemento de la segunda lista: 5\n",
            "Ingrese un elemento de la segunda lista: 6\n",
            "Ingrese un elemento de la segunda lista: 2\n",
            "--------------------------------------------------\n",
            "La primera lista tiene los siguientes elementos que no están en la segunda lista: [1.0]\n"
          ]
        }
      ]
    },
    {
      "cell_type": "markdown",
      "source": [
        "##**Punto #10**"
      ],
      "metadata": {
        "id": "p0P_fGgfibXA"
      }
    },
    {
      "cell_type": "markdown",
      "source": [
        "**Enunciado:** Suponga que se tiene una lista A con ciertos números enteros. Desarrolle una función que, independientemente de los números que se encuentran en la lista A, tome aquellos números que son múltiplos de 3 y los guarde en una lista nueva, la cual debe ser retornada por la función. Implemente la perspectiva de un patrón de acumulación y también de comprensión de listas. Desafío: Si ya lo logró, inténtelo ahora sin utilizar el módulo (%). Pista: Un número es multiplo de 3 si la suma de sus dígitos también lo es, ¿verdad?"
      ],
      "metadata": {
        "id": "kw4l-01ciciQ"
      }
    },
    {
      "cell_type": "markdown",
      "source": [
        "A. Usando módulo (%)"
      ],
      "metadata": {
        "id": "FWztP9K-gQTj"
      }
    },
    {
      "cell_type": "code",
      "source": [
        "def Multiplos(lista):                                                         # La función retornará los valores que sean multiplos de 3\n",
        "  return [i for i in lista if i % 3 == 0]                                     # Usando List comprehension\n",
        "                                                                              # Si el residuo al dividir cada número por 3 es cero, es múltiplo\n",
        "\n",
        "if __name__ == \"__main__\":\n",
        "  lista=[]\n",
        "  n = int(input(\"Ingrese la cantidad de elementos de la primera lista: \"))    # Ingresar la cantidad de elementos\n",
        "  for i in range(n):                                                          # Ingresar elementos\n",
        "    a = int(input(\"Ingrese un elemento de la primera lista: \"))\n",
        "    lista.append(a)\n",
        "  rta=Multiplos(lista)                                                        # Se llama la función\n",
        "  print(\"--------------------------------------------------\")\n",
        "  print(\"Tú lista: \" + str(lista))                                            # Se imprime la lista original que creó el usuario\n",
        "  print(\"Los multiplos de 3 de esa lista son: \" + str(rta))                   # Se imprime la lista con los elementos que son múltiplos de 3"
      ],
      "metadata": {
        "id": "Z3azV4WwidXw",
        "colab": {
          "base_uri": "https://localhost:8080/"
        },
        "outputId": "ad1e9d5d-8595-4f0f-8925-7190853aa6da"
      },
      "execution_count": null,
      "outputs": [
        {
          "output_type": "stream",
          "name": "stdout",
          "text": [
            "Ingrese la cantidad de elementos de la primera lista: 4\n",
            "Ingrese un elemento de la primera lista: 1\n",
            "Ingrese un elemento de la primera lista: 3\n",
            "Ingrese un elemento de la primera lista: 66\n",
            "Ingrese un elemento de la primera lista: 7\n",
            "--------------------------------------------------\n",
            "Tú lista: [1, 3, 66, 7]\n",
            "Los multiplos de 3 de esa lista son: [3, 66]\n"
          ]
        }
      ]
    },
    {
      "cell_type": "markdown",
      "source": [
        "B. RETO - Sin usar módulo(%)"
      ],
      "metadata": {
        "id": "OLBq_atogURt"
      }
    },
    {
      "cell_type": "code",
      "source": [
        "import math\n",
        "\n",
        "def Multiplos(lista):                                                         # Aquí utilicé separo los dígitos del número\n",
        "  multiplos = []\n",
        "\n",
        "  for numero in lista:                                                        # Se evalua número por número de la lista\n",
        "    suma=0\n",
        "    digitos = []\n",
        "    numero_copy=numero                                                        # Se crea una copia por que el numero se va a modificar al hallar los dígitos y será necesario saber el original\n",
        "\n",
        "    while numero > 0:                                                         # Para separar el número con digitos\n",
        "        digito = numero % 10\n",
        "        digitos.insert(0, digito)\n",
        "        numero = numero // 10\n",
        "\n",
        "    for i in digitos:                                                         # Para empezar a hacer la suma de todos los digitos del número correspondiente\n",
        "      digits=0\n",
        "\n",
        "      while digits!=1:                                                        # Para sumar los digitos\n",
        "        suma+=i\n",
        "\n",
        "        if suma > 0:                                                          # Para evaluar cuando esa suma tenga una longitud de 1 digito\n",
        "          digits = int(math.log10(suma)) + 1\n",
        "        elif suma == 0:\n",
        "          digits = 1\n",
        "\n",
        "      if suma==3 or suma==6 or suma==9:                                       # Si esa suma de un dígito da alguno de esos números si el multiplo de 3\n",
        "        multiplos.append(numero_copy)\n",
        "\n",
        "  return multiplos\n",
        "\n",
        "if __name__ == \"__main__\":\n",
        "  lista=[]\n",
        "  n = int(input(\"Ingrese la cantidad de elementos de la primera lista: \"))    # Ingresar la cantidad de elementos\n",
        "  for i in range(n):                                                          # Ingresar elementos\n",
        "    a = int(input(\"Ingrese un elemento de la primera lista: \"))\n",
        "    lista.append(a)\n",
        "  rta=Multiplos(lista)                                                        # Se llama la función\n",
        "  print(\"--------------------------------------------------\")\n",
        "  print(\"Tú lista: \" + str(lista))                                            # Se imprime la lista original que creó el usuario\n",
        "  print(\"Los multiplos de 3 de esa lista son: \" + str(rta))                   # Se imprime la lista con los elementos que son múltiplos de 3"
      ],
      "metadata": {
        "colab": {
          "base_uri": "https://localhost:8080/"
        },
        "id": "kCct3bMMgXse",
        "outputId": "fd03db77-59f6-4014-ff27-3377f21fa455"
      },
      "execution_count": null,
      "outputs": [
        {
          "output_type": "stream",
          "name": "stdout",
          "text": [
            "Ingrese la cantidad de elementos de la primera lista: 1\n",
            "Ingrese un elemento de la primera lista: 33\n",
            "--------------------------------------------------\n",
            "Tú lista: [33]\n",
            "Los multiplos de 3 de esa lista son: [33, 33]\n"
          ]
        }
      ]
    }
  ]
}