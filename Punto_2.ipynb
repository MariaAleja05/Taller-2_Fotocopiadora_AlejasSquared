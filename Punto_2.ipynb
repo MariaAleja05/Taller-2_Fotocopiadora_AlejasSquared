{
  "nbformat": 4,
  "nbformat_minor": 0,
  "metadata": {
    "colab": {
      "provenance": []
    },
    "kernelspec": {
      "name": "python3",
      "display_name": "Python 3"
    },
    "language_info": {
      "name": "python"
    }
  },
  "cells": [
    {
      "cell_type": "markdown",
      "source": [
        "##**Punto 2**"
      ],
      "metadata": {
        "id": "WVPXU66LytkH"
      }
    },
    {
      "cell_type": "code",
      "source": [
        "def Digitos(n):                                                 # La función\n",
        "  digitos=[]                                                    # Lista para introducir los dígitos\n",
        "  entero=[]                                                     # Lista para ingresar la parte entera\n",
        "  decimal=[]                                                    # Lista para ingresar la parte decimal\n",
        "  str_n=str(n)                                                  # Convertir el número a str\n",
        "  for i in str_n:                                               # Un for que va con cada elemento del str\n",
        "    decimal.append(i)                                           # Se añaden todos los elementos\n",
        "  decimal_aux=decimal[:]                                        # Se usará más adelante\n",
        "  for i in decimal_aux:                                         # Con cada elemento de la lista se busca donde hay un punto y así se divide la parte entera de la decimal\n",
        "    if i==\".\":\n",
        "      decimal.remove(i)\n",
        "      break\n",
        "    else:\n",
        "      decimal.remove(i)                                         # Lo que se elemina del decima se añade a la entera\n",
        "      entero.append(i)\n",
        "  print(\"La parte entera es: \" + str(entero))                   # Se muestra el resultado\n",
        "  print(\"La parte decimal es: \" + str(decimal))\n",
        "\n",
        "if __name__ == \"__main__\":\n",
        "  n = float(input(\"Ingrese el número:\"))                        # El usuario ingresa el número flotante\n",
        "  Digitos(n)"
      ],
      "metadata": {
        "colab": {
          "base_uri": "https://localhost:8080/"
        },
        "id": "R3QMPeIn4abp",
        "outputId": "d02e1de8-bb6d-403a-df5a-5d4d68ebbb47"
      },
      "execution_count": 1,
      "outputs": [
        {
          "output_type": "stream",
          "name": "stdout",
          "text": [
            "Ingrese el número:45.67\n",
            "La parte entera es: ['4', '5']\n",
            "La parte decimal es: ['6', '7']\n"
          ]
        }
      ]
    }
  ]
}