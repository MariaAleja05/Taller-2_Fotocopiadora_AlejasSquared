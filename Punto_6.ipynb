{
  "nbformat": 4,
  "nbformat_minor": 0,
  "metadata": {
    "colab": {
      "provenance": []
    },
    "kernelspec": {
      "name": "python3",
      "display_name": "Python 3"
    },
    "language_info": {
      "name": "python"
    }
  },
  "cells": [
    {
      "cell_type": "markdown",
      "source": [
        "##**Punto 6**"
      ],
      "metadata": {
        "id": "WVPXU66LytkH"
      }
    },
    {
      "cell_type": "code",
      "source": [
        "def ElementosRepetidos(lista):                # Función para encontrar elementos repetidos\n",
        "  lista2=[]                                   # Lista para colocar los valores que ya se miraron\n",
        "  for j in lista:                             # Evalua cada elemento de la lista original\n",
        "    if j in lista2:                           # Evalua si el elemento esta en la lista 2\n",
        "      return True                             # Significa que está repetido\n",
        "    lista2.append(j)                          # Añade el elemento a la lista 2 para ver si se repite\n",
        "  return False                                # No hay ningún elemento repetido\n",
        "\n",
        "if __name__ == \"__main__\":\n",
        "  lista=[]                                    # Lista vacía que crea el usuario\n",
        "  n = int(input(\"Ingrese la cantidad de elementos de la lista: \"))  # La cantidad de elementos\n",
        "\n",
        "  for i in range(n):                          # Repite según la cantidad de elementos que tendrá la lista\n",
        "    a = float(input(\"Ingrese un elemento de la lista: \"))\n",
        "    lista.append(a)                           # Añade el elemento a la lista\n",
        "  rta=ElementosRepetidos(lista)               # Llama la función\n",
        "  print(\"--------------------------------------------------\")\n",
        "  print(lista)\n",
        "  if rta:                                     # Si el resultado de la función es True\n",
        "    print(\"La lista SI tiene elementos repetidos\")\n",
        "  else:                                       # Si el resultado de la función es False\n",
        "    print(\"La lista NO tiene elementos repetidos\")"
      ],
      "metadata": {
        "colab": {
          "base_uri": "https://localhost:8080/"
        },
        "id": "yMncKjgsq7vv",
        "outputId": "90af0eb8-1f2b-4bfe-e2a6-c39d3178082a"
      },
      "execution_count": 2,
      "outputs": [
        {
          "output_type": "stream",
          "name": "stdout",
          "text": [
            "Ingrese la cantidad de elementos de la lista: 4\n",
            "Ingrese un elemento de la lista: 1\n",
            "Ingrese un elemento de la lista: 2\n",
            "Ingrese un elemento de la lista: 2\n",
            "Ingrese un elemento de la lista: 3\n",
            "--------------------------------------------------\n",
            "[1.0, 2.0, 2.0, 3.0]\n",
            "La lista SI tiene elementos repetidos\n"
          ]
        }
      ]
    }
  ]
}