{
  "nbformat": 4,
  "nbformat_minor": 0,
  "metadata": {
    "colab": {
      "provenance": []
    },
    "kernelspec": {
      "name": "python3",
      "display_name": "Python 3"
    },
    "language_info": {
      "name": "python"
    }
  },
  "cells": [
    {
      "cell_type": "markdown",
      "source": [
        "##**Punto 10**"
      ],
      "metadata": {
        "id": "WVPXU66LytkH"
      }
    },
    {
      "cell_type": "markdown",
      "source": [
        "A. Con módulo %"
      ],
      "metadata": {
        "id": "AGKBcLp-43AP"
      }
    },
    {
      "cell_type": "code",
      "source": [
        "def Multiplos(lista):                                                         # La función retornará los valores que sean multiplos de 3\n",
        "  return [i for i in lista if i % 3 == 0]                                     # Usando List comprehension\n",
        "                                                                              # Si el residuo al dividir cada número por 3 es cero, es múltiplo\n",
        "\n",
        "if __name__ == \"__main__\":\n",
        "  lista=[]\n",
        "  n = int(input(\"Ingrese la cantidad de elementos de la primera lista: \"))    # Ingresar la cantidad de elementos\n",
        "  for i in range(n):                                                          # Ingresar elementos\n",
        "    a = int(input(\"Ingrese un elemento de la primera lista: \"))\n",
        "    lista.append(a)\n",
        "  rta=Multiplos(lista)                                                        # Se llama la función\n",
        "  print(\"--------------------------------------------------\")\n",
        "  print(\"Tú lista: \" + str(lista))                                            # Se imprime la lista original que creó el usuario\n",
        "  print(\"Los multiplos de 3 de esa lista son: \" + str(rta))                   # Se imprime la lista con los elementos que son múltiplos de 3"
      ],
      "metadata": {
        "colab": {
          "base_uri": "https://localhost:8080/"
        },
        "id": "M-4WbgH545Xh",
        "outputId": "1d40a5b7-bb71-464e-e815-6aac6ee6ba1a"
      },
      "execution_count": 4,
      "outputs": [
        {
          "output_type": "stream",
          "name": "stdout",
          "text": [
            "Ingrese la cantidad de elementos de la primera lista: 3\n",
            "Ingrese un elemento de la primera lista: 1\n",
            "Ingrese un elemento de la primera lista: 3\n",
            "Ingrese un elemento de la primera lista: 66\n",
            "--------------------------------------------------\n",
            "Tú lista: [1, 3, 66]\n",
            "Los multiplos de 3 de esa lista son: [3, 66]\n"
          ]
        }
      ]
    },
    {
      "cell_type": "markdown",
      "source": [
        "B. BONUS - Sin módulo %"
      ],
      "metadata": {
        "id": "o8rX7aOr46yn"
      }
    },
    {
      "cell_type": "code",
      "source": [
        "import math\n",
        "\n",
        "def Multiplos(lista):                                                         # Aquí utilicé separo los dígitos del número\n",
        "  multiplos = []\n",
        "\n",
        "  for numero in lista:                                                        # Se evalua número por número de la lista\n",
        "    suma=0\n",
        "    digitos = []\n",
        "    numero_copy=numero                                                        # Se crea una copia por que el numero se va a modificar al hallar los dígitos y será necesario saber el original\n",
        "\n",
        "    while numero > 0:                                                         # Para separar el número con digitos\n",
        "        digito = numero % 10\n",
        "        digitos.insert(0, digito)\n",
        "        numero = numero // 10\n",
        "\n",
        "    for i in digitos:                                                         # Para empezar a hacer la suma de todos los digitos del número correspondiente\n",
        "      digits=0\n",
        "\n",
        "      while digits!=1:                                                        # Para sumar los digitos\n",
        "        suma+=i\n",
        "\n",
        "        if suma > 0:                                                          # Para evaluar cuando esa suma tenga una longitud de 1 digito\n",
        "          digits = int(math.log10(suma)) + 1\n",
        "        elif suma == 0:\n",
        "          digits = 1\n",
        "\n",
        "      if suma==3 or suma==6 or suma==9:                                       # Si esa suma de un dígito da alguno de esos números si el multiplo de 3\n",
        "        multiplos.append(numero_copy)\n",
        "\n",
        "  return multiplos\n",
        "\n",
        "if __name__ == \"__main__\":\n",
        "  lista=[]\n",
        "  n = int(input(\"Ingrese la cantidad de elementos de la primera lista: \"))    # Ingresar la cantidad de elementos\n",
        "  for i in range(n):                                                          # Ingresar elementos\n",
        "    a = int(input(\"Ingrese un elemento de la primera lista: \"))\n",
        "    lista.append(a)\n",
        "  rta=Multiplos(lista)                                                        # Se llama la función\n",
        "  print(\"--------------------------------------------------\")\n",
        "  print(\"Tú lista: \" + str(lista))                                            # Se imprime la lista original que creó el usuario\n",
        "  print(\"Los multiplos de 3 de esa lista son: \" + str(rta))                   # Se imprime la lista con los elementos que son múltiplos de 3"
      ],
      "metadata": {
        "id": "__ondiLv5wc6",
        "outputId": "d396f31f-f380-48da-9015-55e29eaf53fa",
        "colab": {
          "base_uri": "https://localhost:8080/"
        }
      },
      "execution_count": 6,
      "outputs": [
        {
          "output_type": "stream",
          "name": "stdout",
          "text": [
            "Ingrese la cantidad de elementos de la primera lista: 1\n",
            "Ingrese un elemento de la primera lista: 6\n",
            "--------------------------------------------------\n",
            "Tú lista: [6]\n",
            "Los multiplos de 3 de esa lista son: [6]\n"
          ]
        }
      ]
    }
  ]
}