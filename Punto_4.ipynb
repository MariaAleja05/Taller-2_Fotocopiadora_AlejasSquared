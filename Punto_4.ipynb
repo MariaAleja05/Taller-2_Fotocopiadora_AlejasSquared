{
  "nbformat": 4,
  "nbformat_minor": 0,
  "metadata": {
    "colab": {
      "provenance": []
    },
    "kernelspec": {
      "name": "python3",
      "display_name": "Python 3"
    },
    "language_info": {
      "name": "python"
    }
  },
  "cells": [
    {
      "cell_type": "markdown",
      "source": [
        "##**Punto 4**"
      ],
      "metadata": {
        "id": "WVPXU66LytkH"
      }
    },
    {
      "cell_type": "code",
      "source": [
        "import math                                           # Se importa la biblioteca math\n",
        "from math import cos, factorial                       # Se importan las funciones cos y factorial\n",
        "\n",
        "def AproxFuncionCoseno(x: float, n:int) -> float:     # Se crea una función para hallar la operación\n",
        "  suma: float = 0                                     # La suma inicia en cero\n",
        "  for i in range(0, n+1):                             # Para repetir la operación con cada elemento\n",
        "    y = ((-1)**i)*((x**(2*i))/factorial(2*i))         # Operación de la formula\n",
        "    suma += y\n",
        "  return suma                                         # Resultado final\n",
        "\n",
        "if __name__ == \"__main__\":\n",
        "  x = float(input(\"Ingrese un número real: \"))        # Ingresar el número x\n",
        "  n: int = 1                                          # La sumatoria inicia desde 1\n",
        "  aprox: float = AproxFuncionCoseno(x, n)             # Se llama la función\n",
        "  valorReal: float = cos(x)                           # Se calcula el valor real\n",
        "  diferencia: float = valorReal-aprox                 # Se halla la diferencia\n",
        "\n",
        "  print(\"------------------------------------------------------------------------------\")\n",
        "\n",
        "  while ((abs(valorReal - aprox)/valorReal * 100)>0.1):     #Para el 10%\n",
        "    aprox: float = AproxFuncionCoseno(x, n)\n",
        "    n += 1\n",
        "  print(\"El valor de n para tener un error menor a 0.1: \" + str(n))\n",
        "\n",
        "  while ((abs(valorReal - aprox)/valorReal * 100)>0.01):    #Para el 1%\n",
        "    aprox: float = AproxFuncionCoseno(x, n)\n",
        "    n += 1\n",
        "  print(\"El valor de n para tener un error menor a 0.01: \" + str(n))\n",
        "\n",
        "  while ((abs(valorReal - aprox)/valorReal * 100)>0.001):   # Para el 0.1%\n",
        "    aprox: float = AproxFuncionCoseno(x, n)\n",
        "    n += 1\n",
        "  print(\"El valor de n para tener un error menor a 0.001: \" + str(n))\n",
        "\n",
        "  while ((abs(valorReal - aprox)/valorReal * 100)>0.00001): #Para el 0.001%\n",
        "    aprox: float = AproxFuncionCoseno(x, n)\n",
        "    n += 1\n",
        "  print(\"El valor de n para tener un error menor a 0.00001: \" + str(n))\n",
        "\n",
        "  print(\"------------------------------------------------------------------------------\")\n",
        "\n",
        "  print(\"La aproximación es: \" + str(aprox))                # Resultado de la aprox\n",
        "  print(\"El valor real es: \" + str(valorReal))              # Resultado del valor real\n",
        "  print(\"La diferencia entre estos dos valores es de: \" + str(diferencia))  #Resultado diferencia"
      ],
      "metadata": {
        "colab": {
          "base_uri": "https://localhost:8080/"
        },
        "id": "a_ZoAyv8cd94",
        "outputId": "f515204d-ecc8-45d2-e217-fa8fa22f6c5d"
      },
      "execution_count": 1,
      "outputs": [
        {
          "output_type": "stream",
          "name": "stdout",
          "text": [
            "Ingrese un número real: 1\n",
            "------------------------------------------------------------------------------\n",
            "El valor de n para tener un error menor a 0.1: 4\n",
            "El valor de n para tener un error menor a 0.01: 4\n",
            "El valor de n para tener un error menor a 0.001: 5\n",
            "El valor de n para tener un error menor a 0.00001: 6\n",
            "------------------------------------------------------------------------------\n",
            "La aproximación es: 0.540302303791887\n",
            "El valor real es: 0.5403023058681398\n",
            "La diferencia entre estos dos valores es de: 0.040302305868139765\n"
          ]
        }
      ]
    }
  ]
}