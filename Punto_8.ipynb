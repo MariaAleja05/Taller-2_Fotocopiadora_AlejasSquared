{
  "nbformat": 4,
  "nbformat_minor": 0,
  "metadata": {
    "colab": {
      "provenance": []
    },
    "kernelspec": {
      "name": "python3",
      "display_name": "Python 3"
    },
    "language_info": {
      "name": "python"
    }
  },
  "cells": [
    {
      "cell_type": "markdown",
      "source": [
        "##**Punto 8**"
      ],
      "metadata": {
        "id": "WVPXU66LytkH"
      }
    },
    {
      "cell_type": "code",
      "source": [
        "def ElementosRepetidos(lista, lista2):\n",
        "  for i in range(n):      # Se repite por cada elemento de la lista\n",
        "    for j in lista:       # Toma cada elemento de la primera lista\n",
        "      if j in lista2:     # Se mira si ese elemento está en la lista 2\n",
        "        lista.remove(j)   # Si está se elimina de la primera lista\n",
        "  return lista\n",
        "\n",
        "if __name__ == \"__main__\":\n",
        "  lista=[]\n",
        "  lista2=[]\n",
        "  n = int(input(\"Ingrese la cantidad de elementos de la primera lista: \"))    # Ingresar # de elementos\n",
        "  for i in range(n):                                                          # Ingresar elementos\n",
        "    a = float(input(\"Ingrese un elemento de la primera lista: \"))\n",
        "    lista.append(a)\n",
        "  m = int(input(\"Ingrese la cantidad de elementos de la segunda lista: \"))    # Ingresar # de elementos\n",
        "  for i in range(m):                                                          # Ingresar elementos\n",
        "    b = float(input(\"Ingrese un elemento de la segunda lista: \"))\n",
        "    lista2.append(b)\n",
        "  rta=ElementosRepetidos(lista, lista2)                                       # Se llama la función\n",
        "  print(\"--------------------------------------------------\")\n",
        "  print(\"La primera lista tiene los siguientes elementos que no están en la segunda lista: \" + str(rta))"
      ],
      "metadata": {
        "id": "JIrdzOuyfDib",
        "outputId": "5366dac0-7461-4ea4-d845-107544646345",
        "colab": {
          "base_uri": "https://localhost:8080/"
        }
      },
      "execution_count": 3,
      "outputs": [
        {
          "output_type": "stream",
          "name": "stdout",
          "text": [
            "Ingrese la cantidad de elementos de la primera lista: 4\n",
            "Ingrese un elemento de la primera lista: 1\n",
            "Ingrese un elemento de la primera lista: 2\n",
            "Ingrese un elemento de la primera lista: 3\n",
            "Ingrese un elemento de la primera lista: 4\n",
            "Ingrese la cantidad de elementos de la segunda lista: 5\n",
            "Ingrese un elemento de la segunda lista: 3\n",
            "Ingrese un elemento de la segunda lista: 4\n",
            "Ingrese un elemento de la segunda lista: 5\n",
            "Ingrese un elemento de la segunda lista: 6\n",
            "Ingrese un elemento de la segunda lista: 7\n",
            "--------------------------------------------------\n",
            "La primera lista tiene los siguientes elementos que no están en la segunda lista: [1.0, 2.0]\n"
          ]
        }
      ]
    }
  ]
}